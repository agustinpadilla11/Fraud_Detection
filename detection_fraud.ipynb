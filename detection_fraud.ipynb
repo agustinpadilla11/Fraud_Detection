{
 "cells": [
  {
   "cell_type": "markdown",
   "metadata": {
    "id": "GX1rsLbM3m4m"
   },
   "source": [
    "## Importamos librerías"
   ]
  },
  {
   "cell_type": "code",
   "execution_count": null,
   "metadata": {
    "id": "yNjwLyFd3t4t"
   },
   "outputs": [],
   "source": [
    "import pandas as pd \n",
    "import numpy as np \n",
    "import matplotlib.pyplot as plt \n",
    "import itertools\n",
    "\n",
    "from sklearn.preprocessing import StandardScaler \n",
    "from sklearn.model_selection import train_test_split \n",
    "from sklearn.tree import DecisionTreeClassifier \n",
    "from sklearn.neighbors import KNeighborsClassifier \n",
    "from sklearn.linear_model import LogisticRegression \n",
    "from sklearn.svm import SVC \n",
    "from sklearn.ensemble import RandomForestClassifier \n",
    "from xgboost import XGBClassifier \n",
    "\n",
    "from sklearn.metrics import confusion_matrix \n",
    "from sklearn.metrics import accuracy_score \n",
    "from sklearn.metrics import f1_score"
   ]
  },
  {
   "cell_type": "markdown",
   "metadata": {
    "id": "rpAIS_ax5OPE"
   },
   "source": [
    "### importamos los datos"
   ]
  },
  {
   "cell_type": "code",
   "execution_count": null,
   "metadata": {
    "colab": {
     "base_uri": "https://localhost:8080/",
     "height": 299
    },
    "id": "DNCN7z345U1q",
    "outputId": "454e2f96-bb25-43d1-b84c-0189c26d8dd5"
   },
   "outputs": [
    {
     "data": {
      "text/html": [
       "\n",
       "  <div id=\"df-a43feabc-fb3a-4f4f-bf20-c621f92a6d8b\">\n",
       "    <div class=\"colab-df-container\">\n",
       "      <div>\n",
       "<style scoped>\n",
       "    .dataframe tbody tr th:only-of-type {\n",
       "        vertical-align: middle;\n",
       "    }\n",
       "\n",
       "    .dataframe tbody tr th {\n",
       "        vertical-align: top;\n",
       "    }\n",
       "\n",
       "    .dataframe thead th {\n",
       "        text-align: right;\n",
       "    }\n",
       "</style>\n",
       "<table border=\"1\" class=\"dataframe\">\n",
       "  <thead>\n",
       "    <tr style=\"text-align: right;\">\n",
       "      <th></th>\n",
       "      <th>V1</th>\n",
       "      <th>V2</th>\n",
       "      <th>V3</th>\n",
       "      <th>V4</th>\n",
       "      <th>V5</th>\n",
       "      <th>V6</th>\n",
       "      <th>V7</th>\n",
       "      <th>V8</th>\n",
       "      <th>V9</th>\n",
       "      <th>V10</th>\n",
       "      <th>...</th>\n",
       "      <th>V21</th>\n",
       "      <th>V22</th>\n",
       "      <th>V23</th>\n",
       "      <th>V24</th>\n",
       "      <th>V25</th>\n",
       "      <th>V26</th>\n",
       "      <th>V27</th>\n",
       "      <th>V28</th>\n",
       "      <th>Amount</th>\n",
       "      <th>Class</th>\n",
       "    </tr>\n",
       "  </thead>\n",
       "  <tbody>\n",
       "    <tr>\n",
       "      <th>0</th>\n",
       "      <td>-1.359807</td>\n",
       "      <td>-0.072781</td>\n",
       "      <td>2.536347</td>\n",
       "      <td>1.378155</td>\n",
       "      <td>-0.338321</td>\n",
       "      <td>0.462388</td>\n",
       "      <td>0.239599</td>\n",
       "      <td>0.098698</td>\n",
       "      <td>0.363787</td>\n",
       "      <td>0.090794</td>\n",
       "      <td>...</td>\n",
       "      <td>-0.018307</td>\n",
       "      <td>0.277838</td>\n",
       "      <td>-0.110474</td>\n",
       "      <td>0.066928</td>\n",
       "      <td>0.128539</td>\n",
       "      <td>-0.189115</td>\n",
       "      <td>0.133558</td>\n",
       "      <td>-0.021053</td>\n",
       "      <td>149.62</td>\n",
       "      <td>0.0</td>\n",
       "    </tr>\n",
       "    <tr>\n",
       "      <th>1</th>\n",
       "      <td>1.191857</td>\n",
       "      <td>0.266151</td>\n",
       "      <td>0.166480</td>\n",
       "      <td>0.448154</td>\n",
       "      <td>0.060018</td>\n",
       "      <td>-0.082361</td>\n",
       "      <td>-0.078803</td>\n",
       "      <td>0.085102</td>\n",
       "      <td>-0.255425</td>\n",
       "      <td>-0.166974</td>\n",
       "      <td>...</td>\n",
       "      <td>-0.225775</td>\n",
       "      <td>-0.638672</td>\n",
       "      <td>0.101288</td>\n",
       "      <td>-0.339846</td>\n",
       "      <td>0.167170</td>\n",
       "      <td>0.125895</td>\n",
       "      <td>-0.008983</td>\n",
       "      <td>0.014724</td>\n",
       "      <td>2.69</td>\n",
       "      <td>0.0</td>\n",
       "    </tr>\n",
       "    <tr>\n",
       "      <th>2</th>\n",
       "      <td>-1.358354</td>\n",
       "      <td>-1.340163</td>\n",
       "      <td>1.773209</td>\n",
       "      <td>0.379780</td>\n",
       "      <td>-0.503198</td>\n",
       "      <td>1.800499</td>\n",
       "      <td>0.791461</td>\n",
       "      <td>0.247676</td>\n",
       "      <td>-1.514654</td>\n",
       "      <td>0.207643</td>\n",
       "      <td>...</td>\n",
       "      <td>0.247998</td>\n",
       "      <td>0.771679</td>\n",
       "      <td>0.909412</td>\n",
       "      <td>-0.689281</td>\n",
       "      <td>-0.327642</td>\n",
       "      <td>-0.139097</td>\n",
       "      <td>-0.055353</td>\n",
       "      <td>-0.059752</td>\n",
       "      <td>378.66</td>\n",
       "      <td>0.0</td>\n",
       "    </tr>\n",
       "    <tr>\n",
       "      <th>3</th>\n",
       "      <td>-0.966272</td>\n",
       "      <td>-0.185226</td>\n",
       "      <td>1.792993</td>\n",
       "      <td>-0.863291</td>\n",
       "      <td>-0.010309</td>\n",
       "      <td>1.247203</td>\n",
       "      <td>0.237609</td>\n",
       "      <td>0.377436</td>\n",
       "      <td>-1.387024</td>\n",
       "      <td>-0.054952</td>\n",
       "      <td>...</td>\n",
       "      <td>-0.108300</td>\n",
       "      <td>0.005274</td>\n",
       "      <td>-0.190321</td>\n",
       "      <td>-1.175575</td>\n",
       "      <td>0.647376</td>\n",
       "      <td>-0.221929</td>\n",
       "      <td>0.062723</td>\n",
       "      <td>0.061458</td>\n",
       "      <td>123.50</td>\n",
       "      <td>0.0</td>\n",
       "    </tr>\n",
       "    <tr>\n",
       "      <th>4</th>\n",
       "      <td>-1.158233</td>\n",
       "      <td>0.877737</td>\n",
       "      <td>1.548718</td>\n",
       "      <td>0.403034</td>\n",
       "      <td>-0.407193</td>\n",
       "      <td>0.095921</td>\n",
       "      <td>0.592941</td>\n",
       "      <td>-0.270533</td>\n",
       "      <td>0.817739</td>\n",
       "      <td>0.753074</td>\n",
       "      <td>...</td>\n",
       "      <td>-0.009431</td>\n",
       "      <td>0.798278</td>\n",
       "      <td>-0.137458</td>\n",
       "      <td>0.141267</td>\n",
       "      <td>-0.206010</td>\n",
       "      <td>0.502292</td>\n",
       "      <td>0.219422</td>\n",
       "      <td>0.215153</td>\n",
       "      <td>69.99</td>\n",
       "      <td>0.0</td>\n",
       "    </tr>\n",
       "  </tbody>\n",
       "</table>\n",
       "<p>5 rows × 30 columns</p>\n",
       "</div>\n",
       "      <button class=\"colab-df-convert\" onclick=\"convertToInteractive('df-a43feabc-fb3a-4f4f-bf20-c621f92a6d8b')\"\n",
       "              title=\"Convert this dataframe to an interactive table.\"\n",
       "              style=\"display:none;\">\n",
       "        \n",
       "  <svg xmlns=\"http://www.w3.org/2000/svg\" height=\"24px\"viewBox=\"0 0 24 24\"\n",
       "       width=\"24px\">\n",
       "    <path d=\"M0 0h24v24H0V0z\" fill=\"none\"/>\n",
       "    <path d=\"M18.56 5.44l.94 2.06.94-2.06 2.06-.94-2.06-.94-.94-2.06-.94 2.06-2.06.94zm-11 1L8.5 8.5l.94-2.06 2.06-.94-2.06-.94L8.5 2.5l-.94 2.06-2.06.94zm10 10l.94 2.06.94-2.06 2.06-.94-2.06-.94-.94-2.06-.94 2.06-2.06.94z\"/><path d=\"M17.41 7.96l-1.37-1.37c-.4-.4-.92-.59-1.43-.59-.52 0-1.04.2-1.43.59L10.3 9.45l-7.72 7.72c-.78.78-.78 2.05 0 2.83L4 21.41c.39.39.9.59 1.41.59.51 0 1.02-.2 1.41-.59l7.78-7.78 2.81-2.81c.8-.78.8-2.07 0-2.86zM5.41 20L4 18.59l7.72-7.72 1.47 1.35L5.41 20z\"/>\n",
       "  </svg>\n",
       "      </button>\n",
       "      \n",
       "  <style>\n",
       "    .colab-df-container {\n",
       "      display:flex;\n",
       "      flex-wrap:wrap;\n",
       "      gap: 12px;\n",
       "    }\n",
       "\n",
       "    .colab-df-convert {\n",
       "      background-color: #E8F0FE;\n",
       "      border: none;\n",
       "      border-radius: 50%;\n",
       "      cursor: pointer;\n",
       "      display: none;\n",
       "      fill: #1967D2;\n",
       "      height: 32px;\n",
       "      padding: 0 0 0 0;\n",
       "      width: 32px;\n",
       "    }\n",
       "\n",
       "    .colab-df-convert:hover {\n",
       "      background-color: #E2EBFA;\n",
       "      box-shadow: 0px 1px 2px rgba(60, 64, 67, 0.3), 0px 1px 3px 1px rgba(60, 64, 67, 0.15);\n",
       "      fill: #174EA6;\n",
       "    }\n",
       "\n",
       "    [theme=dark] .colab-df-convert {\n",
       "      background-color: #3B4455;\n",
       "      fill: #D2E3FC;\n",
       "    }\n",
       "\n",
       "    [theme=dark] .colab-df-convert:hover {\n",
       "      background-color: #434B5C;\n",
       "      box-shadow: 0px 1px 3px 1px rgba(0, 0, 0, 0.15);\n",
       "      filter: drop-shadow(0px 1px 2px rgba(0, 0, 0, 0.3));\n",
       "      fill: #FFFFFF;\n",
       "    }\n",
       "  </style>\n",
       "\n",
       "      <script>\n",
       "        const buttonEl =\n",
       "          document.querySelector('#df-a43feabc-fb3a-4f4f-bf20-c621f92a6d8b button.colab-df-convert');\n",
       "        buttonEl.style.display =\n",
       "          google.colab.kernel.accessAllowed ? 'block' : 'none';\n",
       "\n",
       "        async function convertToInteractive(key) {\n",
       "          const element = document.querySelector('#df-a43feabc-fb3a-4f4f-bf20-c621f92a6d8b');\n",
       "          const dataTable =\n",
       "            await google.colab.kernel.invokeFunction('convertToInteractive',\n",
       "                                                     [key], {});\n",
       "          if (!dataTable) return;\n",
       "\n",
       "          const docLinkHtml = 'Like what you see? Visit the ' +\n",
       "            '<a target=\"_blank\" href=https://colab.research.google.com/notebooks/data_table.ipynb>data table notebook</a>'\n",
       "            + ' to learn more about interactive tables.';\n",
       "          element.innerHTML = '';\n",
       "          dataTable['output_type'] = 'display_data';\n",
       "          await google.colab.output.renderOutput(dataTable, element);\n",
       "          const docLink = document.createElement('div');\n",
       "          docLink.innerHTML = docLinkHtml;\n",
       "          element.appendChild(docLink);\n",
       "        }\n",
       "      </script>\n",
       "    </div>\n",
       "  </div>\n",
       "  "
      ],
      "text/plain": [
       "         V1        V2        V3        V4        V5        V6        V7  \\\n",
       "0 -1.359807 -0.072781  2.536347  1.378155 -0.338321  0.462388  0.239599   \n",
       "1  1.191857  0.266151  0.166480  0.448154  0.060018 -0.082361 -0.078803   \n",
       "2 -1.358354 -1.340163  1.773209  0.379780 -0.503198  1.800499  0.791461   \n",
       "3 -0.966272 -0.185226  1.792993 -0.863291 -0.010309  1.247203  0.237609   \n",
       "4 -1.158233  0.877737  1.548718  0.403034 -0.407193  0.095921  0.592941   \n",
       "\n",
       "         V8        V9       V10  ...       V21       V22       V23       V24  \\\n",
       "0  0.098698  0.363787  0.090794  ... -0.018307  0.277838 -0.110474  0.066928   \n",
       "1  0.085102 -0.255425 -0.166974  ... -0.225775 -0.638672  0.101288 -0.339846   \n",
       "2  0.247676 -1.514654  0.207643  ...  0.247998  0.771679  0.909412 -0.689281   \n",
       "3  0.377436 -1.387024 -0.054952  ... -0.108300  0.005274 -0.190321 -1.175575   \n",
       "4 -0.270533  0.817739  0.753074  ... -0.009431  0.798278 -0.137458  0.141267   \n",
       "\n",
       "        V25       V26       V27       V28  Amount  Class  \n",
       "0  0.128539 -0.189115  0.133558 -0.021053  149.62    0.0  \n",
       "1  0.167170  0.125895 -0.008983  0.014724    2.69    0.0  \n",
       "2 -0.327642 -0.139097 -0.055353 -0.059752  378.66    0.0  \n",
       "3  0.647376 -0.221929  0.062723  0.061458  123.50    0.0  \n",
       "4 -0.206010  0.502292  0.219422  0.215153   69.99    0.0  \n",
       "\n",
       "[5 rows x 30 columns]"
      ]
     },
     "execution_count": 8,
     "metadata": {},
     "output_type": "execute_result"
    }
   ],
   "source": [
    "data = '/content/creditcard.csv'\n",
    "df = pd.read_csv(data)\n",
    "df.drop('Time', axis=1, inplace=True)#borramos el Time porque no lo usaremos para este analisis.\n",
    "df.head()"
   ]
  },
  {
   "cell_type": "markdown",
   "metadata": {
    "id": "dBnwwX8q6ViR"
   },
   "source": [
    "# Análisis exploratorio de datos"
   ]
  },
  {
   "cell_type": "code",
   "execution_count": null,
   "metadata": {
    "colab": {
     "base_uri": "https://localhost:8080/"
    },
    "id": "hmYoD1c_7x6I",
    "outputId": "430cb48b-7e43-48ed-8f18-99138cd56923"
   },
   "outputs": [
    {
     "name": "stdout",
     "output_type": "stream",
     "text": [
      "Conteo de casos\n",
      "--------------------------------------------\n",
      "Total de clases 166510\n",
      "cantidad de clases no fraudulentas 166151\n",
      "cantidad de clases fraudulentas 358\n",
      "Porcentaje de fraudes 0.22\n"
     ]
    }
   ],
   "source": [
    "# 1. conteo y porcentaje\n",
    "cases = len(df)\n",
    "nonfraud_count = len(df[df.Class == 0])\n",
    "fraud_count = len(df[df.Class == 1])\n",
    "fraud_percentage = round(fraud_count/nonfraud_count*100, 2)\n",
    "\n",
    "print('Conteo de casos')\n",
    "print('--------------------------------------------')\n",
    "print('Total de clases {}'.format(cases))\n",
    "print('cantidad de clases no fraudulentas {}'.format(nonfraud_count))\n",
    "print('cantidad de clases fraudulentas {}'.format(fraud_count))\n",
    "print('Porcentaje de fraudes {}'.format(fraud_percentage))"
   ]
  },
  {
   "cell_type": "code",
   "execution_count": null,
   "metadata": {
    "colab": {
     "base_uri": "https://localhost:8080/"
    },
    "id": "5ygUNX0v-F6r",
    "outputId": "c51de387-bb44-4859-dde5-a103effa5eb3"
   },
   "outputs": [
    {
     "name": "stdout",
     "output_type": "stream",
     "text": [
      "ESTADÍSTICAS DE CANTIDAD DE CASOS\n",
      "--------------------------------------------\n",
      "ESTADÍSTICAS DE CANTIDAD DE CASOS SIN FRAUDE\n",
      "count    166151.000000\n",
      "mean         86.859640\n",
      "std         243.333364\n",
      "min           0.000000\n",
      "25%           5.400000\n",
      "50%          21.500000\n",
      "75%          76.070000\n",
      "max       19656.530000\n",
      "Name: Amount, dtype: float64\n",
      "--------------------------------------------\n",
      "ESTADÍSTICAS DE CANTIDAD DE CASOS DE FRAUDE\n",
      "count     358.000000\n",
      "mean      111.608492\n",
      "std       227.944683\n",
      "min         0.000000\n",
      "25%         1.000000\n",
      "50%        10.685000\n",
      "75%       101.500000\n",
      "max      1809.680000\n",
      "Name: Amount, dtype: float64\n"
     ]
    }
   ],
   "source": [
    "#Descripción\n",
    "nonfraud_cases = df[df.Class == 0]\n",
    "fraud_cases = df[df.Class == 1]\n",
    "\n",
    "print('ESTADÍSTICAS DE CANTIDAD DE CASOS')\n",
    "print('--------------------------------------------')\n",
    "print('ESTADÍSTICAS DE CANTIDAD DE CASOS SIN FRAUDE')\n",
    "print(nonfraud_cases.Amount.describe())\n",
    "print('--------------------------------------------')\n",
    "print('ESTADÍSTICAS DE CANTIDAD DE CASOS DE FRAUDE')\n",
    "print(fraud_cases.Amount.describe())"
   ]
  },
  {
   "cell_type": "code",
   "execution_count": null,
   "metadata": {
    "colab": {
     "base_uri": "https://localhost:8080/"
    },
    "id": "UOjF2KA1E3ct",
    "outputId": "a135c5f8-6edf-48bb-ab4e-f76aaa476129"
   },
   "outputs": [
    {
     "name": "stdout",
     "output_type": "stream",
     "text": [
      "<class 'pandas.core.frame.DataFrame'>\n",
      "RangeIndex: 166510 entries, 0 to 166509\n",
      "Data columns (total 30 columns):\n",
      " #   Column  Non-Null Count   Dtype  \n",
      "---  ------  --------------   -----  \n",
      " 0   V1      166510 non-null  float64\n",
      " 1   V2      166510 non-null  float64\n",
      " 2   V3      166510 non-null  float64\n",
      " 3   V4      166510 non-null  float64\n",
      " 4   V5      166510 non-null  float64\n",
      " 5   V6      166510 non-null  float64\n",
      " 6   V7      166510 non-null  float64\n",
      " 7   V8      166509 non-null  float64\n",
      " 8   V9      166509 non-null  float64\n",
      " 9   V10     166509 non-null  float64\n",
      " 10  V11     166509 non-null  float64\n",
      " 11  V12     166509 non-null  float64\n",
      " 12  V13     166509 non-null  float64\n",
      " 13  V14     166509 non-null  float64\n",
      " 14  V15     166509 non-null  float64\n",
      " 15  V16     166509 non-null  float64\n",
      " 16  V17     166509 non-null  float64\n",
      " 17  V18     166509 non-null  float64\n",
      " 18  V19     166509 non-null  float64\n",
      " 19  V20     166509 non-null  float64\n",
      " 20  V21     166509 non-null  float64\n",
      " 21  V22     166509 non-null  float64\n",
      " 22  V23     166509 non-null  float64\n",
      " 23  V24     166509 non-null  float64\n",
      " 24  V25     166509 non-null  float64\n",
      " 25  V26     166509 non-null  float64\n",
      " 26  V27     166509 non-null  float64\n",
      " 27  V28     166509 non-null  float64\n",
      " 28  Amount  166509 non-null  float64\n",
      " 29  Class   166509 non-null  float64\n",
      "dtypes: float64(30)\n",
      "memory usage: 38.1 MB\n"
     ]
    }
   ],
   "source": [
    "df.info()"
   ]
  },
  {
   "cell_type": "code",
   "execution_count": null,
   "metadata": {
    "colab": {
     "base_uri": "https://localhost:8080/"
    },
    "id": "53HjH5ckGjra",
    "outputId": "75ea4bfb-e6c6-467a-e98b-0d36bfc80fef"
   },
   "outputs": [
    {
     "data": {
      "text/plain": [
       "True"
      ]
     },
     "execution_count": 36,
     "metadata": {},
     "output_type": "execute_result"
    }
   ],
   "source": [
    "np.any(np.isnan(df))"
   ]
  },
  {
   "cell_type": "code",
   "execution_count": null,
   "metadata": {
    "colab": {
     "base_uri": "https://localhost:8080/"
    },
    "id": "FmS4qXtDIvAq",
    "outputId": "ebf5e195-ecba-4201-8ef9-f6a306ad82db"
   },
   "outputs": [
    {
     "data": {
      "text/plain": [
       "(166510, 30)"
      ]
     },
     "execution_count": 39,
     "metadata": {},
     "output_type": "execute_result"
    }
   ],
   "source": [
    "df.shape"
   ]
  },
  {
   "cell_type": "code",
   "execution_count": null,
   "metadata": {
    "colab": {
     "base_uri": "https://localhost:8080/"
    },
    "id": "azy0t1x7Izcr",
    "outputId": "657727fd-936e-4949-9f51-c53c6e7e40de"
   },
   "outputs": [
    {
     "data": {
      "text/plain": [
       "(166509, 30)"
      ]
     },
     "execution_count": 42,
     "metadata": {},
     "output_type": "execute_result"
    }
   ],
   "source": [
    "df_cl = df.dropna(how='any')\n",
    "df_cl.shape"
   ]
  },
  {
   "cell_type": "code",
   "execution_count": null,
   "metadata": {
    "colab": {
     "base_uri": "https://localhost:8080/"
    },
    "id": "uiELnLemALEA",
    "outputId": "bee517ff-183e-4975-a34a-844e708df698"
   },
   "outputs": [
    {
     "name": "stdout",
     "output_type": "stream",
     "text": [
      "0    0.257733\n",
      "1   -0.346165\n",
      "2    1.199112\n",
      "3    0.150377\n",
      "4   -0.069555\n",
      "5   -0.342137\n",
      "6   -0.336712\n",
      "7   -0.189529\n",
      "8    0.025841\n",
      "9   -0.342096\n",
      "Name: Amount, dtype: float64\n"
     ]
    }
   ],
   "source": [
    "# Escalada\n",
    "# vamos a escalar los datos ya que la variable Amount varia mucho en comparacion de las demás features.\n",
    "\n",
    "sc = StandardScaler()\n",
    "amount = df['Amount'].values\n",
    "\n",
    "df['Amount'] = sc.fit_transform(amount.reshape(-1, 1))\n",
    "\n",
    "print(df['Amount'].head(10)) "
   ]
  },
  {
   "cell_type": "markdown",
   "metadata": {
    "id": "OD0W44cmA8XD"
   },
   "source": [
    "## División de datos"
   ]
  },
  {
   "cell_type": "code",
   "execution_count": null,
   "metadata": {
    "colab": {
     "base_uri": "https://localhost:8080/"
    },
    "id": "ylb_JUzrA-up",
    "outputId": "93d5441b-0b22-4702-ba3f-571ad9266840"
   },
   "outputs": [
    {
     "name": "stdout",
     "output_type": "stream",
     "text": [
      "\u001b[1mX_train samples : \u001b[0m [[-1.7872621  -1.27280824  1.99286834 -1.91838267  0.81481363 -0.93110482\n",
      "  -0.7898485   0.24697407  0.33811282 -0.37685243  1.34211167 -2.96671288\n",
      "   1.13539804  1.16380841 -1.67037689  1.68033305  0.32847377 -0.42946107\n",
      "   0.25216688  0.60989105 -0.07565627 -0.55935788  0.11248141 -0.45825043\n",
      "   0.49358877 -0.46593759  0.1609064   0.12686032 -0.07773385]]\n",
      "\u001b[1mX_test samples : \u001b[0m [[-0.37634487  1.08429381  0.23076579 -0.64733246  1.48767596 -0.1577508\n",
      "   0.8744291  -0.03238589  0.62654161 -1.41339635  1.49001878 -2.31385737\n",
      "   1.37895627  0.71939793 -1.56897034  0.55413083  0.77048145  0.77819724\n",
      "   0.23194822 -0.06640475 -0.41149435 -0.99708404 -0.13827902  0.03663299\n",
      "  -0.24373414  0.12994297  0.03134436  0.14087735 -0.35356315]]\n",
      "\u001b[1my_train samples : \u001b[0m [0. 0. 0. 0. 0. 0. 0. 0. 0. 0. 0. 0. 0. 0. 0. 0. 0. 0. 0. 0.]\n",
      "\u001b[1my_test samples : \u001b[0m [0. 0. 0. 0. 0. 0. 0. 0. 0. 0. 0. 0. 0. 0. 0. 0. 0. 0. 0. 0.]\n"
     ]
    }
   ],
   "source": [
    "X = df_cl.drop('Class', axis = 1).values\n",
    "y = df_cl['Class'].values\n",
    "\n",
    "X_train, X_test, y_train, y_test = train_test_split(X, y, test_size = 0.2, random_state = 0)\n",
    "print('X_train samples : '), X_train[:1])\n",
    "print('X_test samples : '), X_test[0:1])\n",
    "print('y_train samples : '), y_train[0:20])\n",
    "print('y_test samples : '), y_test[0:20])"
   ]
  },
  {
   "cell_type": "markdown",
   "metadata": {
    "id": "1LIRa3ENEQXx"
   },
   "source": [
    "## Modelado"
   ]
  },
  {
   "cell_type": "code",
   "execution_count": null,
   "metadata": {
    "id": "KjFUegFLEVIl"
   },
   "outputs": [],
   "source": [
    "# 1. Decision Tree\n",
    "\n",
    "tree_model = DecisionTreeClassifier(max_depth = 4, criterion = 'entropy')\n",
    "tree_model.fit(X_train, y_train)\n",
    "tree_yhat = tree_model.predict(X_test)"
   ]
  },
  {
   "cell_type": "code",
   "execution_count": null,
   "metadata": {
    "id": "YR71H-_TKTrA"
   },
   "outputs": [],
   "source": [
    "# 2. K-Nearest Neighbors\n",
    "\n",
    "n = 5\n",
    "\n",
    "knn = KNeighborsClassifier(n_neighbors = n)\n",
    "knn.fit(X_train, y_train)\n",
    "knn_yhat = knn.predict(X_test)"
   ]
  },
  {
   "cell_type": "code",
   "execution_count": null,
   "metadata": {
    "id": "wwjVbfI3Kjqx"
   },
   "outputs": [],
   "source": [
    "# 3. Logistic Regression\n",
    "\n",
    "lr = LogisticRegression()\n",
    "lr.fit(X_train, y_train)\n",
    "lr_yhat = lr.predict(X_test)"
   ]
  },
  {
   "cell_type": "code",
   "execution_count": null,
   "metadata": {
    "id": "k1FvI9xRKkvf"
   },
   "outputs": [],
   "source": [
    "# 4. SVM \n",
    "\n",
    "svm = SVC()\n",
    "svm.fit(X_train, y_train)\n",
    "svm_yhat = svm.predict(X_test)"
   ]
  },
  {
   "cell_type": "code",
   "execution_count": null,
   "metadata": {
    "id": "9532hJGNKqS7"
   },
   "outputs": [],
   "source": [
    "# 5. Random Forest Tree\n",
    "\n",
    "rf = RandomForestClassifier(max_depth = 4)\n",
    "rf.fit(X_train, y_train)\n",
    "rf_yhat = rf.predict(X_test)"
   ]
  },
  {
   "cell_type": "code",
   "execution_count": null,
   "metadata": {
    "id": "2jUY7UhHKqIY"
   },
   "outputs": [],
   "source": [
    "# 6. XGBoost\n",
    "\n",
    "xgb = XGBClassifier(max_depth = 4)\n",
    "xgb.fit(X_train, y_train)\n",
    "xgb_yhat = xgb.predict(X_test)"
   ]
  },
  {
   "cell_type": "markdown",
   "metadata": {
    "id": "YMRhZtOQLeDx"
   },
   "source": [
    "## evaluación"
   ]
  },
  {
   "cell_type": "code",
   "execution_count": null,
   "metadata": {
    "colab": {
     "base_uri": "https://localhost:8080/"
    },
    "id": "Iq-_smI9Lhh1",
    "outputId": "5eb4aa7f-21e4-46b9-e618-06cc06377017"
   },
   "outputs": [
    {
     "name": "stdout",
     "output_type": "stream",
     "text": [
      "ACCURACY SCORE\n",
      "------------------------------------------------------------------------\n",
      "Accuracy score de Decision Tree model 0.9991892378836106\n",
      "------------------------------------------------------------------------\n",
      "Accuracy score de KNN model 0.9993393790162753\n",
      "------------------------------------------------------------------------\n",
      "Accuracy score de Logistic Regression model 0.9986187015794847\n",
      "------------------------------------------------------------------------\n",
      "Accuracy score de SVM model 0.9992492943366765\n",
      "------------------------------------------------------------------------\n",
      "Accuracy score de Random Forest Tree model 0.9991892378836106\n",
      "------------------------------------------------------------------------\n",
      "Accuracy score de XGBoost model is 0.9993994354693412\n"
     ]
    }
   ],
   "source": [
    "#Accuracy score\n",
    "\n",
    "print('ACCURACY SCORE')\n",
    "print('------------------------------------------------------------------------')\n",
    "print('Accuracy score de Decision Tree model {}'.format(accuracy_score(y_test, tree_yhat)))\n",
    "print('------------------------------------------------------------------------')\n",
    "print('Accuracy score de KNN model {}'.format(accuracy_score(y_test, knn_yhat)))\n",
    "print('------------------------------------------------------------------------')\n",
    "print('Accuracy score de Logistic Regression model {}'.format(accuracy_score(y_test, lr_yhat)))\n",
    "print('------------------------------------------------------------------------')\n",
    "print('Accuracy score de SVM model {}'.format(accuracy_score(y_test, svm_yhat)))\n",
    "print('------------------------------------------------------------------------')\n",
    "print('Accuracy score de Random Forest Tree model {}'.format(accuracy_score(y_test, rf_yhat)))\n",
    "print('------------------------------------------------------------------------')\n",
    "print('Accuracy score de XGBoost model is {}'.format(accuracy_score(y_test, xgb_yhat)))"
   ]
  },
  {
   "cell_type": "code",
   "execution_count": null,
   "metadata": {
    "colab": {
     "base_uri": "https://localhost:8080/"
    },
    "id": "dbrr3monM-uu",
    "outputId": "7e29d7e4-4023-4278-e8bb-1fb9b63e11fd"
   },
   "outputs": [
    {
     "name": "stdout",
     "output_type": "stream",
     "text": [
      "F1 SCORE\n",
      "------------------------------------------------------------------------\n",
      "F1 score de Decision Tree model 0.8258064516129032\n",
      "------------------------------------------------------------------------\n",
      "F1 score de KNN model 0.842857142857143\n",
      "------------------------------------------------------------------------\n",
      "F1 score de Logistic Regression model 0.6349206349206349\n",
      "------------------------------------------------------------------------\n",
      "F1 score de SVM model 0.8175182481751825\n",
      "------------------------------------------------------------------------\n",
      "F1 score de Random Forest Tree model 0.8\n",
      "------------------------------------------------------------------------\n",
      "F1 score de XGBoost model 0.8611111111111112\n"
     ]
    }
   ],
   "source": [
    "# F1 score\n",
    "\n",
    "print('F1 SCORE')\n",
    "print('------------------------------------------------------------------------')\n",
    "print('F1 score de Decision Tree model {}'.format(f1_score(y_test, tree_yhat)))\n",
    "print('------------------------------------------------------------------------')\n",
    "print('F1 score de KNN model {}'.format(f1_score(y_test, knn_yhat)))\n",
    "print('------------------------------------------------------------------------')\n",
    "print('F1 score de Logistic Regression model {}'.format(f1_score(y_test, lr_yhat)))\n",
    "print('------------------------------------------------------------------------')\n",
    "print('F1 score de SVM model {}'.format(f1_score(y_test, svm_yhat)))\n",
    "print('------------------------------------------------------------------------')\n",
    "print('F1 score de Random Forest Tree model {}'.format(f1_score(y_test, rf_yhat)))\n",
    "print('------------------------------------------------------------------------')\n",
    "print('F1 score de XGBoost model {}'.format(f1_score(y_test, xgb_yhat)))"
   ]
  },
  {
   "cell_type": "code",
   "execution_count": null,
   "metadata": {
    "colab": {
     "base_uri": "https://localhost:8080/",
     "height": 1000
    },
    "id": "hYAuX6K3Nmq1",
    "outputId": "a4be382a-de0b-42c6-fae0-e03c140726cc"
   },
   "outputs": [
    {
     "data": {
      "image/png": "[encoded data removed]",
      "text/plain": [
       "<Figure size 432x432 with 2 Axes>"
      ]
     },
     "metadata": {
      "needs_background": "light"
     },
     "output_type": "display_data"
    },
    {
     "data": {
      "image/png": "[encoded data removed]",
      "text/plain": [
       "<Figure size 432x432 with 2 Axes>"
      ]
     },
     "metadata": {
      "needs_background": "light"
     },
     "output_type": "display_data"
    },
    {
     "data": {
      "image/png": "[encoded data removed]",
      "text/plain": [
       "<Figure size 432x432 with 2 Axes>"
      ]
     },
     "metadata": {
      "needs_background": "light"
     },
     "output_type": "display_data"
    },
    {
     "data": {
      "image/png": "[encoded data removed]",
      "text/plain": [
       "<Figure size 432x432 with 2 Axes>"
      ]
     },
     "metadata": {
      "needs_background": "light"
     },
     "output_type": "display_data"
    },
    {
     "data": {
      "image/png": "[encoded data removed]",
      "text/plain": [
       "<Figure size 432x432 with 2 Axes>"
      ]
     },
     "metadata": {
      "needs_background": "light"
     },
     "output_type": "display_data"
    },
    {
     "data": {
      "image/png": "[encoded data removed]",
      "text/plain": [
       "<Figure size 432x432 with 2 Axes>"
      ]
     },
     "metadata": {
      "needs_background": "light"
     },
     "output_type": "display_data"
    }
   ],
   "source": [
    "# Confusion Matrix\n",
    "\n",
    "# Definimos una función para el plot\n",
    "\n",
    "def plot_confusion_matrix(cm, classes, title, normalize = False, cmap = plt.cm.Blues):\n",
    "    title = 'Confusion Matrix of {}'.format(title)\n",
    "    if normalize:\n",
    "        cm = cm.astype(float) / cm.sum(axis=1)[:, np.newaxis]\n",
    "\n",
    "    plt.imshow(cm, interpolation = 'nearest', cmap = cmap)\n",
    "    plt.title(title)\n",
    "    plt.colorbar()\n",
    "    tick_marks = np.arange(len(classes))\n",
    "    plt.xticks(tick_marks, classes, rotation = 45)\n",
    "    plt.yticks(tick_marks, classes)\n",
    "\n",
    "    fmt = '.2f' if normalize else 'd'\n",
    "    thresh = cm.max() / 2.\n",
    "    for i, j in itertools.product(range(cm.shape[0]), range(cm.shape[1])):\n",
    "        plt.text(j, i, format(cm[i, j], fmt),\n",
    "                 horizontalalignment = 'center',\n",
    "                 color = 'white' if cm[i, j] > thresh else 'black')\n",
    "\n",
    "    plt.tight_layout()\n",
    "    plt.ylabel('valores verdaderos')\n",
    "    plt.xlabel('valores predichos')\n",
    "\n",
    "# Calcular la matriz de confusión para los modelos.\n",
    "\n",
    "tree_matrix = confusion_matrix(y_test, tree_yhat, labels = [0, 1])\n",
    "knn_matrix = confusion_matrix(y_test, knn_yhat, labels = [0, 1])\n",
    "lr_matrix = confusion_matrix(y_test, lr_yhat, labels = [0, 1]) \n",
    "svm_matrix = confusion_matrix(y_test, svm_yhat, labels = [0, 1]) \n",
    "rf_matrix = confusion_matrix(y_test, rf_yhat, labels = [0, 1]) \n",
    "xgb_matrix = confusion_matrix(y_test, xgb_yhat, labels = [0, 1]) \n",
    "\n",
    "# Plot the confusion matrix\n",
    "\n",
    "plt.rcParams['figure.figsize'] = (6, 6)\n",
    "\n",
    "# 1. Decision tree\n",
    "\n",
    "tree_cm_plot = plot_confusion_matrix(tree_matrix, \n",
    "                                classes = ['Non-fraud(0)','Fraud(1)'], \n",
    "                                normalize = False, title = 'Decision Tree')\n",
    "plt.savefig('tree_cm_plot.png')\n",
    "plt.show()\n",
    "\n",
    "# 2. K-Nearest Neighbors\n",
    "\n",
    "knn_cm_plot = plot_confusion_matrix(knn_matrix, \n",
    "                                classes = ['Non-Fraud(0)','Fraud(1)'], \n",
    "                                normalize = False, title = 'KNN')\n",
    "plt.savefig('knn_cm_plot.png')\n",
    "plt.show()\n",
    "\n",
    "# 3. Logistic regression\n",
    "\n",
    "lr_cm_plot = plot_confusion_matrix(lr_matrix, \n",
    "                                classes = ['Non-Fraud(0)','Fraud(1)'], \n",
    "                                normalize = False, title = 'Logistic Regression')\n",
    "plt.savefig('lr_cm_plot.png')\n",
    "plt.show()\n",
    "\n",
    "# 4. Support Vector Machine\n",
    "\n",
    "svm_cm_plot = plot_confusion_matrix(svm_matrix, \n",
    "                                classes = ['Non-Fraud(0)','Fraud(1)'], \n",
    "                                normalize = False, title = 'SVM')\n",
    "plt.savefig('svm_cm_plot.png')\n",
    "plt.show()\n",
    "\n",
    "# 5. Random forest tree\n",
    "\n",
    "rf_cm_plot = plot_confusion_matrix(rf_matrix, \n",
    "                                classes = ['Non-Fraud(0)','Fraud(1)'], \n",
    "                                normalize = False, title = 'Random Forest Tree')\n",
    "plt.savefig('rf_cm_plot.png')\n",
    "plt.show()\n",
    "\n",
    "# 6. XGBoost\n",
    "\n",
    "xgb_cm_plot = plot_confusion_matrix(xgb_matrix, \n",
    "                                classes = ['Non-Fraud(0)','Fraud(1)'], \n",
    "                                normalize = False, title = 'XGBoost')\n",
    "plt.savefig('xgb_cm_plot.png')\n",
    "plt.show()"
   ]
  },
  {
   "cell_type": "markdown",
   "metadata": {
    "id": "FRubU_z7QFhq"
   },
   "source": [
    "Comprender los resultados de la matriz de confusión: Tomemos como ejemplo la matriz de confusión del modelo XGBoost. La primera fila es para transacciones cuyo valor de fraude real en el conjunto de prueba es 0. Como puede calcular, el valor de fraude 33225 de ellas es 0. Y de estas 33225 transacciones que no son de fraude, el clasificador predijo correctamente 33220 de ellas como 0 y 5 de ellos como 1. Esto significa que, para 33220 transacciones no fraudulentas, el valor real de abandono fue 0 en el conjunto de prueba, y el clasificador también predijo correctamente esos como 0. Podemos decir que nuestro modelo ha clasificado las transacciones no fraudulentas transacciones bastante bien."
   ]
  },
  {
   "cell_type": "code",
   "execution_count": null,
   "metadata": {
    "id": "fedqG875QHKO"
   },
   "outputs": [],
   "source": []
  }
 ],
 "metadata": {
  "colab": {
   "name": "detection_fraud.ipynb",
   "provenance": []
  },
  "kernelspec": {
   "display_name": "Python 3 (ipykernel)",
   "language": "python",
   "name": "python3"
  },
  "language_info": {
   "codemirror_mode": {
    "name": "ipython",
    "version": 3
   },
   "file_extension": ".py",
   "mimetype": "text/x-python",
   "name": "python",
   "nbconvert_exporter": "python",
   "pygments_lexer": "ipython3",
   "version": "3.9.5"
  }
 },
 "nbformat": 4,
 "nbformat_minor": 1
}
